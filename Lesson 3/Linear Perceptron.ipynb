{
 "cells": [
  {
   "cell_type": "markdown",
   "metadata": {},
   "source": [
    "# Linear Perceptron Concepts\n",
    "\n",
    "- ### Linear Separation\n",
    "- ### Linear Regression\n",
    "- ### Gradient Descent"
   ]
  },
  {
   "cell_type": "code",
   "execution_count": null,
   "metadata": {},
   "outputs": [],
   "source": [
    "import random\n",
    "\n",
    "class Neuron:\n",
    "    \n",
    "    def __init__(self, input_count, learning_rate=1, threshold=0, max_iterations=5000):\n",
    "        self.input_count = input_count\n",
    "        self.learning_rate = learning_rate\n",
    "        self.threshold = threshold\n",
    "        self.max_iterations = max_iterations\n",
    "        self.weights = self.generateWeights(self.input_count)  \n",
    "    \n",
    "    def generateWeights(self, size):\n",
    "        outputList = [0] * (size + 1)\n",
    "        \n",
    "        for i in range(0, size + 1):\n",
    "            outputList[i] = random.uniform(-1, 1)\n",
    "        \n",
    "        return outputList\n",
    "            \n",
    "    # rewrite my train method to new method and use for loops instead of while loops\n",
    "    def train_new(self, training_set_in, training_set_target):\n",
    "        iterations = 0\n",
    "        while(iterations < self.max_iterations):\n",
    "            error_sum = 0\n",
    "            \n",
    "            for i in range(len(training_set_in)):\n",
    "                summation = -1 * self.weights[0]\n",
    "                for j in range(len(training_set_in[i])):\n",
    "                    summation += training_set_in[i][j] * self.weights[j+1]\n",
    "                output = 1 if summation > 0 else 0\n",
    "                \n",
    "                error = training_set_target[i] - output\n",
    "                error_sum += abs(error)\n",
    "                self.weights[0] += self.learning_rate * error * -1\n",
    "                for j in range(1, len(self.weights)):\n",
    "                    self.weights[j] += self.learning_rate * error * training_set_in[i][j-1]\n",
    "                    \n",
    "            iterations += 1\n",
    "            if(error_sum <= self.threshold):\n",
    "                break\n",
    "        \n",
    "    def activateNeuron(self, inputs):\n",
    "        summation = -1 * self.weights[0]\n",
    "        i = 0\n",
    "        while(i < len(inputs)):\n",
    "            summation += inputs[i] * self.weights[i+1]\n",
    "            i += 1\n",
    "        \n",
    "        return 1 if summation > 0 else 0\n",
    "    "
   ]
  }
 ],
 "metadata": {
  "language_info": {
   "name": "python"
  },
  "orig_nbformat": 4
 },
 "nbformat": 4,
 "nbformat_minor": 2
}
